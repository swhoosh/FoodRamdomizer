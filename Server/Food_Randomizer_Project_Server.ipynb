{
  "cells": [
    {
      "cell_type": "code",
      "execution_count": null,
      "metadata": {
        "colab": {
          "base_uri": "https://localhost:8080/"
        },
        "id": "g9FeilmhufUT",
        "outputId": "157e77a7-5c8f-4588-a62a-8d4dc3e7476b"
      },
      "outputs": [
        {
          "name": "stdout",
          "output_type": "stream",
          "text": [
            "Collecting flask_ngrok\n",
            "  Downloading flask_ngrok-0.0.25-py3-none-any.whl (3.1 kB)\n",
            "Requirement already satisfied: Flask>=0.8 in /usr/local/lib/python3.7/dist-packages (from flask_ngrok) (1.1.4)\n",
            "Requirement already satisfied: requests in /usr/local/lib/python3.7/dist-packages (from flask_ngrok) (2.23.0)\n",
            "Requirement already satisfied: itsdangerous<2.0,>=0.24 in /usr/local/lib/python3.7/dist-packages (from Flask>=0.8->flask_ngrok) (1.1.0)\n",
            "Requirement already satisfied: Jinja2<3.0,>=2.10.1 in /usr/local/lib/python3.7/dist-packages (from Flask>=0.8->flask_ngrok) (2.11.3)\n",
            "Requirement already satisfied: click<8.0,>=5.1 in /usr/local/lib/python3.7/dist-packages (from Flask>=0.8->flask_ngrok) (7.1.2)\n",
            "Requirement already satisfied: Werkzeug<2.0,>=0.15 in /usr/local/lib/python3.7/dist-packages (from Flask>=0.8->flask_ngrok) (1.0.1)\n",
            "Requirement already satisfied: MarkupSafe>=0.23 in /usr/local/lib/python3.7/dist-packages (from Jinja2<3.0,>=2.10.1->Flask>=0.8->flask_ngrok) (2.0.1)\n",
            "Requirement already satisfied: urllib3!=1.25.0,!=1.25.1,<1.26,>=1.21.1 in /usr/local/lib/python3.7/dist-packages (from requests->flask_ngrok) (1.24.3)\n",
            "Requirement already satisfied: certifi>=2017.4.17 in /usr/local/lib/python3.7/dist-packages (from requests->flask_ngrok) (2021.10.8)\n",
            "Requirement already satisfied: idna<3,>=2.5 in /usr/local/lib/python3.7/dist-packages (from requests->flask_ngrok) (2.10)\n",
            "Requirement already satisfied: chardet<4,>=3.0.2 in /usr/local/lib/python3.7/dist-packages (from requests->flask_ngrok) (3.0.4)\n",
            "Installing collected packages: flask-ngrok\n",
            "Successfully installed flask-ngrok-0.0.25\n",
            "Requirement already satisfied: flask in /usr/local/lib/python3.7/dist-packages (1.1.4)\n",
            "Collecting flask-cors\n",
            "  Downloading Flask_Cors-3.0.10-py2.py3-none-any.whl (14 kB)\n",
            "Requirement already satisfied: Werkzeug<2.0,>=0.15 in /usr/local/lib/python3.7/dist-packages (from flask) (1.0.1)\n",
            "Requirement already satisfied: Jinja2<3.0,>=2.10.1 in /usr/local/lib/python3.7/dist-packages (from flask) (2.11.3)\n",
            "Requirement already satisfied: click<8.0,>=5.1 in /usr/local/lib/python3.7/dist-packages (from flask) (7.1.2)\n",
            "Requirement already satisfied: itsdangerous<2.0,>=0.24 in /usr/local/lib/python3.7/dist-packages (from flask) (1.1.0)\n",
            "Requirement already satisfied: MarkupSafe>=0.23 in /usr/local/lib/python3.7/dist-packages (from Jinja2<3.0,>=2.10.1->flask) (2.0.1)\n",
            "Requirement already satisfied: Six in /usr/local/lib/python3.7/dist-packages (from flask-cors) (1.15.0)\n",
            "Installing collected packages: flask-cors\n",
            "Successfully installed flask-cors-3.0.10\n",
            "Requirement already satisfied: pymongo[srv] in /usr/local/lib/python3.7/dist-packages (3.12.1)\n",
            "Collecting dnspython<3.0.0,>=1.16.0\n",
            "  Downloading dnspython-2.1.0-py3-none-any.whl (241 kB)\n",
            "\u001b[K     |████████████████████████████████| 241 kB 24.2 MB/s \n",
            "\u001b[?25hInstalling collected packages: dnspython\n",
            "Successfully installed dnspython-2.1.0\n",
            "Requirement already satisfied: gdown in /usr/local/lib/python3.7/dist-packages (3.6.4)\n",
            "Requirement already satisfied: six in /usr/local/lib/python3.7/dist-packages (from gdown) (1.15.0)\n",
            "Requirement already satisfied: tqdm in /usr/local/lib/python3.7/dist-packages (from gdown) (4.62.3)\n",
            "Requirement already satisfied: requests in /usr/local/lib/python3.7/dist-packages (from gdown) (2.23.0)\n",
            "Requirement already satisfied: idna<3,>=2.5 in /usr/local/lib/python3.7/dist-packages (from requests->gdown) (2.10)\n",
            "Requirement already satisfied: certifi>=2017.4.17 in /usr/local/lib/python3.7/dist-packages (from requests->gdown) (2021.10.8)\n",
            "Requirement already satisfied: urllib3!=1.25.0,!=1.25.1,<1.26,>=1.21.1 in /usr/local/lib/python3.7/dist-packages (from requests->gdown) (1.24.3)\n",
            "Requirement already satisfied: chardet<4,>=3.0.2 in /usr/local/lib/python3.7/dist-packages (from requests->gdown) (3.0.4)\n",
            "Downloading...\n",
            "From: https://drive.google.com/uc?id=1YydNPwhYWaK3MbHVHZCudUgODWJYqSmC\n",
            "To: /content/generic-food.csv\n",
            "100% 46.4k/46.4k [00:00<00:00, 6.87MB/s]\n"
          ]
        }
      ],
      "source": [
        "# !pip install flask_ngrok\n",
        "# !pip install flask flask-cors\n",
        "# !pip install pymongo[srv]\n",
        "# !pip install gdown\n",
        "# !gdown https://drive.google.com/uc?id=1YydNPwhYWaK3MbHVHZCudUgODWJYqSmC"
      ]
    },
    {
      "cell_type": "markdown",
      "metadata": {
        "id": "3toHxOoeZ-97"
      },
      "source": [
        "# Libraies"
      ]
    },
    {
      "cell_type": "code",
      "execution_count": null,
      "metadata": {
        "id": "dAxZfVpnZ-CI"
      },
      "outputs": [],
      "source": [
        "from flask_cors import CORS, cross_origin\n",
        "from flask_ngrok import run_with_ngrok\n",
        "from flask import Flask\n",
        "from flask import request\n",
        "from flask import jsonify\n",
        "import json\n",
        "import pymongo\n",
        "import pandas as pd\n",
        "import numpy as np\n",
        "\n",
        "client = pymongo.MongoClient(\"MongoDB Connection Link HERE\")\n",
        "mydb = client['FoodRandomizer_db']\n",
        "mycol = mydb['food_list']"
      ]
    },
    {
      "cell_type": "markdown",
      "metadata": {
        "id": "uUNT-_G7JoqZ"
      },
      "source": [
        "# Initial Data Insertion"
      ]
    },
    {
      "cell_type": "code",
      "execution_count": null,
      "metadata": {
        "colab": {
          "base_uri": "https://localhost:8080/"
        },
        "id": "2GSIA-_iJkY1",
        "outputId": "8580433e-565d-4193-8315-cb997050b90d"
      },
      "outputs": [
        {
          "data": {
            "text/plain": [
              "<pymongo.results.InsertManyResult at 0x7f1915eb8a50>"
            ]
          },
          "execution_count": 3,
          "metadata": {},
          "output_type": "execute_result"
        }
      ],
      "source": [
        "df = pd.read_csv('generic-food.csv')\n",
        "\n",
        "df = df[{'FOOD NAME','GROUP'}]\n",
        "df.rename(columns={\"FOOD NAME\": \"name\", \"GROUP\": \"category\"}, inplace=True)\n",
        "\n",
        "df['category'] = np.random.choice(['Meal', 'Dessert', 'Drink'], df.shape[0])\n",
        "\n",
        "df['price'] = np.random.randint(10, 500, df.shape[0])\n",
        "df['price'] = df['price'].apply(str)\n",
        "\n",
        "df['calories'] = np.random.randint(100, 1000, df.shape[0])\n",
        "df['calories'] = df['calories'].apply(str)\n",
        "\n",
        "df['delivery'] = np.random.choice(['Yes', 'No'], df.shape[0])\n",
        "\n",
        "df['pick'] = [0] * df.shape[0]\n",
        "\n",
        "df = df[:20]\n",
        "df\n",
        "dataset = df.to_dict('records')\n",
        "dataset\n",
        "mycol.delete_many({})\n",
        "mycol.insert_many(dataset)"
      ]
    },
    {
      "cell_type": "markdown",
      "metadata": {
        "id": "TVH6djih0ILf"
      },
      "source": [
        "# Flask Server"
      ]
    },
    {
      "cell_type": "code",
      "execution_count": null,
      "metadata": {
        "colab": {
          "base_uri": "https://localhost:8080/"
        },
        "id": "6_i-TLVcvPyl",
        "outputId": "4f654817-0d94-4ed0-e796-4f65ab4d8527"
      },
      "outputs": [
        {
          "name": "stdout",
          "output_type": "stream",
          "text": [
            " * Serving Flask app \"__main__\" (lazy loading)\n",
            " * Environment: production\n",
            "\u001b[31m   WARNING: This is a development server. Do not use it in a production deployment.\u001b[0m\n",
            "\u001b[2m   Use a production WSGI server instead.\u001b[0m\n",
            " * Debug mode: off\n"
          ]
        },
        {
          "name": "stderr",
          "output_type": "stream",
          "text": [
            " * Running on http://127.0.0.1:5000/ (Press CTRL+C to quit)\n"
          ]
        },
        {
          "name": "stdout",
          "output_type": "stream",
          "text": [
            " * Running on http://1e91-34-86-212-89.ngrok.io\n",
            " * Traffic stats available on http://127.0.0.1:4040\n"
          ]
        },
        {
          "name": "stderr",
          "output_type": "stream",
          "text": [
            "127.0.0.1 - - [10/Dec/2021 06:43:27] \"\u001b[37mGET /get_list?index=0&category=All HTTP/1.1\u001b[0m\" 200 -\n",
            "127.0.0.1 - - [10/Dec/2021 06:43:29] \"\u001b[37mGET /get_list?index=10&category=All HTTP/1.1\u001b[0m\" 200 -\n",
            "127.0.0.1 - - [10/Dec/2021 06:43:30] \"\u001b[37mGET /get_list?index=20&category=All HTTP/1.1\u001b[0m\" 200 -\n",
            "127.0.0.1 - - [10/Dec/2021 06:43:50] \"\u001b[37mGET /count_type HTTP/1.1\u001b[0m\" 200 -\n",
            "127.0.0.1 - - [10/Dec/2021 06:43:50] \"\u001b[37mGET /get_top_pick?category=All HTTP/1.1\u001b[0m\" 200 -\n",
            "127.0.0.1 - - [10/Dec/2021 06:43:55] \"\u001b[37mGET /randomize?category=All HTTP/1.1\u001b[0m\" 200 -\n",
            "127.0.0.1 - - [10/Dec/2021 06:43:56] \"\u001b[37mGET /increase_pick?name=Burdock&category=Meal&price=421&calories=225&delivery=No HTTP/1.1\u001b[0m\" 200 -\n",
            "127.0.0.1 - - [10/Dec/2021 06:43:58] \"\u001b[37mGET /randomize?category=All HTTP/1.1\u001b[0m\" 200 -\n",
            "127.0.0.1 - - [10/Dec/2021 06:43:59] \"\u001b[37mGET /increase_pick?name=Chives&category=Drink&price=253&calories=388&delivery=No HTTP/1.1\u001b[0m\" 200 -\n",
            "127.0.0.1 - - [10/Dec/2021 06:48:27] \"\u001b[37mGET /get_list?index=0&category=All HTTP/1.1\u001b[0m\" 200 -\n",
            "127.0.0.1 - - [10/Dec/2021 06:48:40] \"\u001b[37mGET /get_list?index=20&category=All HTTP/1.1\u001b[0m\" 200 -\n",
            "127.0.0.1 - - [10/Dec/2021 06:50:25] \"\u001b[37mGET /get_list?index=0&category=Meal HTTP/1.1\u001b[0m\" 200 -\n",
            "127.0.0.1 - - [10/Dec/2021 06:50:27] \"\u001b[37mGET /get_list?index=0&category=All HTTP/1.1\u001b[0m\" 200 -\n",
            "127.0.0.1 - - [10/Dec/2021 06:50:40] \"\u001b[37mGET /get_list?index=10&category=All HTTP/1.1\u001b[0m\" 200 -\n",
            "127.0.0.1 - - [10/Dec/2021 06:50:43] \"\u001b[37mGET /get_list?index=0&category=Meal HTTP/1.1\u001b[0m\" 200 -\n"
          ]
        }
      ],
      "source": [
        "app = Flask(__name__)\n",
        "CORS(app, support_credentials=True)\n",
        "run_with_ngrok(app)\n",
        "\n",
        "# /add_food?name=Pad%20Thai&category=main%20dish&price=70&calories=400&delivery=true\n",
        "@app.route('/add_food') # add food to MongoDB\n",
        "def add_food():\n",
        "  name = request.args.get('name') # arg -> name\n",
        "  category = request.args.get('category') # arg -> category\n",
        "  price = request.args.get('price') # arg -> price\n",
        "  calories = request.args.get('calories') # arg -> calories\n",
        "  delivery = request.args.get('delivery') # arg -> delivery\n",
        "  \n",
        "  ret = mycol.insert_one({'name':name,\n",
        "                      'category':category,\n",
        "                      'price':price,\n",
        "                      'calories':calories,\n",
        "                      'delivery':delivery,\n",
        "                      'pick':0})\n",
        "  return {'data':'Insert Successfully!'}\n",
        "\n",
        "# /delete_item?name=Noodle&category=main%20dish&price=40&calories=400&delivery=false\n",
        "@app.route('/delete_item') # delete food from MongoDB\n",
        "def delete_item():\n",
        "  name = request.args.get('name') # arg -> name\n",
        "  category = request.args.get('category') # arg -> category\n",
        "  price = request.args.get('price') # arg -> price\n",
        "  calories = request.args.get('calories') # arg -> calories\n",
        "  delivery = request.args.get('delivery') # arg -> delivery\n",
        "\n",
        "  query = {'name':name,\n",
        "            'category':category,\n",
        "            'price':price,\n",
        "            'calories':calories,\n",
        "            'delivery':delivery}\n",
        "  mycol.delete_one(query)\n",
        "  return {'data':'Delete successfully'}\n",
        "\n",
        "\n",
        "# /randomize?\n",
        "@app.route('/randomize') # return randomize foods\n",
        "def randomize():\n",
        "  # res = mycol.find({'category': \"main dish\"})\n",
        "  category = request.args.get('category') # arg -> category\n",
        "  if category == \"All\":\n",
        "    res = mycol.find({}).sort('pick', -1)\n",
        "  else:\n",
        "    res = mycol.find({'category': category}).sort('pick', -1)\n",
        "    \n",
        "  df = pd.DataFrame([item for item in res]).sample(n=2)\n",
        "  df.pop('_id')\n",
        "\n",
        "  res = df.to_dict('records')  \n",
        "  ret = dict()\n",
        "  ret['data'] = res\n",
        "  return jsonify(ret)\n",
        "\n",
        "@app.route('/increase_pick') # increase pick\n",
        "def increase_pick():\n",
        "  name = request.args.get('name') # arg -> name\n",
        "  category = request.args.get('category') # arg -> category\n",
        "  price = request.args.get('price') # arg -> price\n",
        "  calories = request.args.get('calories') # arg -> calories\n",
        "  delivery = request.args.get('delivery') # arg -> delivery\n",
        "\n",
        "  query = {'name':name,\n",
        "            'category':category,\n",
        "            'price':price,\n",
        "            'calories':calories,\n",
        "            'delivery':delivery}\n",
        "\n",
        "  res = mycol.find_one(query) \n",
        "  res['pick'] = res['pick']+1\n",
        "  new_values = { \"$set\": { \"pick\": res['pick'] } }\n",
        "  mycol.update_one(query, new_values)\n",
        "  return {'data':'Update Successfully'}\n",
        "\n",
        "@app.route('/get_list') # return list of foods\n",
        "def get_list():\n",
        "  # res = mycol.find({'category': \"main dish\"})\n",
        "  index = int(request.args.get('index')) # arg -> index\n",
        "  category = request.args.get('category') # arg -> category\n",
        "  if category == \"All\":\n",
        "    res = mycol.find({}).sort('calories', -1)\n",
        "  else:\n",
        "    res = mycol.find({'category': category}).sort('pick', -1)\n",
        "\n",
        "  df = pd.DataFrame([item for item in res])\n",
        "  df.pop('_id')\n",
        "  res = df.to_dict('records')[index:index+10]\n",
        "  ret = dict()\n",
        "  ret['data'] = res\n",
        "  return jsonify(ret)\n",
        "\n",
        "@app.route('/count_type') # return count of each type\n",
        "def count_type():\n",
        "  res = mycol.find({})\n",
        "  df = pd.DataFrame([item for item in res])\n",
        "  df = df.groupby('category').count()\n",
        "  df = df.drop(['_id', 'price', 'calories', 'delivery'], axis=1)\n",
        "  data = df.to_dict('split')\n",
        "  data.pop('columns')\n",
        "  data['count'] = []\n",
        "  for item in data['data']:\n",
        "    data['count'].append(item[0])\n",
        "  data.pop('data')\n",
        "\n",
        "  ret = dict()\n",
        "  ret['data'] = data\n",
        "  return jsonify(ret)\n",
        "\n",
        "@app.route('/get_top_pick') # return get top 5 pick\n",
        "def get_top_pick():\n",
        "  category = request.args.get('category') # arg -> category\n",
        "  if category == \"All\":\n",
        "    res = mycol.find({}).sort('pick', -1)\n",
        "  else:\n",
        "    res = mycol.find({'category': category}).sort('pick', -1)\n",
        "\n",
        "  df = pd.DataFrame([item for item in res])\n",
        "  df = df[:5]\n",
        "  df = df.drop(['_id', 'category', 'price', 'calories', 'delivery'], axis=1)\n",
        "  df.set_index('name', inplace=True)\n",
        "  data = df.to_dict('split')\n",
        "  data.pop('columns')\n",
        "  data['pick'] = []\n",
        "  for item in data['data']:\n",
        "    data['pick'].append(item[0])\n",
        "  data.pop('data')\n",
        "\n",
        "  ret = dict()\n",
        "  ret['data'] = data\n",
        "  return jsonify(ret)\n",
        "\n",
        "\n",
        "app.run()"
      ]
    },
    {
      "cell_type": "markdown",
      "metadata": {
        "id": "BYV-_mDhW44k"
      },
      "source": [
        "Debug"
      ]
    },
    {
      "cell_type": "code",
      "execution_count": null,
      "metadata": {
        "colab": {
          "base_uri": "https://localhost:8080/"
        },
        "id": "TGXkR1_nW1tH",
        "outputId": "ca958222-eb7f-4f97-869b-d6f4ce578192"
      },
      "outputs": [
        {
          "data": {
            "text/plain": [
              "[{'calories': '720',\n",
              "  'category': 'Herbs and Spices',\n",
              "  'delivery': 'No',\n",
              "  'name': 'Angelica',\n",
              "  'pick': 0,\n",
              "  'price': '392'},\n",
              " {'calories': '660',\n",
              "  'category': 'Vegetables',\n",
              "  'delivery': 'No',\n",
              "  'name': 'Savoy cabbage',\n",
              "  'pick': 0,\n",
              "  'price': '480'},\n",
              " {'calories': '901',\n",
              "  'category': 'Herbs and Spices',\n",
              "  'delivery': 'No',\n",
              "  'name': 'Silver linden',\n",
              "  'pick': 0,\n",
              "  'price': '148'}]"
            ]
          },
          "execution_count": 24,
          "metadata": {},
          "output_type": "execute_result"
        }
      ],
      "source": [
        "import pandas as pd\n",
        "\n",
        "client = pymongo.MongoClient(\"[mongoDB-conn-link]\")\n",
        "mydb = client['FoodRandomizer_db']\n",
        "mycol = mydb['food_list'] \n",
        "\n",
        "index=0\n",
        "res = mycol.find({})\n",
        "df = pd.DataFrame([item for item in res])\n",
        "df.pop('_id')\n",
        "res = df.to_dict('records')\n",
        "res[0:3]"
      ]
    },
    {
      "cell_type": "code",
      "execution_count": null,
      "metadata": {
        "colab": {
          "base_uri": "https://localhost:8080/"
        },
        "id": "WfG0eP-_4A4h",
        "outputId": "9bff62b6-4b62-4aa5-a62f-c4bc7e0fd848"
      },
      "outputs": [
        {
          "data": {
            "text/plain": [
              "{'count': [44,\n",
              "  166,\n",
              "  1,\n",
              "  33,\n",
              "  30,\n",
              "  48,\n",
              "  8,\n",
              "  5,\n",
              "  29,\n",
              "  51,\n",
              "  1,\n",
              "  8,\n",
              "  130,\n",
              "  17,\n",
              "  108,\n",
              "  1,\n",
              "  23,\n",
              "  27,\n",
              "  26,\n",
              "  8,\n",
              "  9,\n",
              "  3,\n",
              "  1,\n",
              "  130],\n",
              " 'index': ['Animal foods',\n",
              "  'Aquatic foods',\n",
              "  'Baby foods',\n",
              "  'Baking goods',\n",
              "  'Beverages',\n",
              "  'Cereals and cereal products',\n",
              "  'Cocoa and cocoa products',\n",
              "  'Coffee and coffee products',\n",
              "  'Confectioneries',\n",
              "  'Dishes',\n",
              "  'Eggs',\n",
              "  'Fats and oils',\n",
              "  'Fruits',\n",
              "  'Gourds',\n",
              "  'Herbs and Spices',\n",
              "  'Herbs and spices',\n",
              "  'Milk and milk products',\n",
              "  'Nuts',\n",
              "  'Pulses',\n",
              "  'Snack foods',\n",
              "  'Soy',\n",
              "  'Teas',\n",
              "  'Unclassified',\n",
              "  'Vegetables']}"
            ]
          },
          "execution_count": 25,
          "metadata": {},
          "output_type": "execute_result"
        }
      ],
      "source": [
        "res = mycol.find({})\n",
        "df = pd.DataFrame([item for item in res])\n",
        "df = df.groupby('category').count()\n",
        "df = df.drop(['_id', 'price', 'calories', 'delivery'], axis=1)\n",
        "data = df.to_dict('split')\n",
        "data.pop('columns')\n",
        "data['count'] = []\n",
        "for item in data['data']:\n",
        "  data['count'].append(item[0])\n",
        "data.pop('data')\n",
        "data"
      ]
    },
    {
      "cell_type": "code",
      "execution_count": null,
      "metadata": {
        "id": "lLzp3BsunfQ1"
      },
      "outputs": [],
      "source": [
        "query = {'name':\"Angelica\",\n",
        "            'category':\"Herbs and Spices\",\n",
        "            'price':\"430\",\n",
        "            'calories':\"964\",\n",
        "            'delivery':\"No\"}\n",
        "\n",
        "res = mycol.find_one(query) \n",
        "res\n",
        "# res['pick'] = res['pick']+1\n",
        "\n",
        "# new_values = { \"$set\": { \"pick\": res['pick'] } }\n",
        "# mycol.update_one(query, new_values)"
      ]
    },
    {
      "cell_type": "code",
      "execution_count": null,
      "metadata": {
        "colab": {
          "base_uri": "https://localhost:8080/"
        },
        "id": "9ZgsapRWw0r_",
        "outputId": "98eb0918-956a-410f-ede6-70b112c37e2c"
      },
      "outputs": [
        {
          "data": {
            "text/plain": [
              "{'index': ['Lemon verbena',\n",
              "  'Garlic',\n",
              "  'Savoy cabbage',\n",
              "  'Silver linden',\n",
              "  'Garden onion',\n",
              "  'Angelica',\n",
              "  'Kiwi',\n",
              "  'Allium (Onion)',\n",
              "  'Leek',\n",
              "  'Chives'],\n",
              " 'pick': [4, 2, 1, 1, 1, 0, 0, 0, 0, 0]}"
            ]
          },
          "execution_count": 45,
          "metadata": {},
          "output_type": "execute_result"
        }
      ],
      "source": [
        "res = mycol.find().sort('pick', -1)\n",
        "df = pd.DataFrame([item for item in res])\n",
        "df = df.drop(['_id', 'category', 'price', 'calories', 'delivery'], axis=1)\n",
        "df.set_index('name', inplace=True)\n",
        "data = df.to_dict('split')\n",
        "data.pop('columns')\n",
        "data['pick'] = []\n",
        "for item in data['data']:\n",
        "  data['pick'].append(item[0])\n",
        "data.pop('data')\n",
        "data"
      ]
    }
  ],
  "metadata": {
    "colab": {
      "collapsed_sections": [],
      "provenance": []
    },
    "kernelspec": {
      "display_name": "Python 3",
      "name": "python3"
    }
  },
  "nbformat": 4,
  "nbformat_minor": 0
}
